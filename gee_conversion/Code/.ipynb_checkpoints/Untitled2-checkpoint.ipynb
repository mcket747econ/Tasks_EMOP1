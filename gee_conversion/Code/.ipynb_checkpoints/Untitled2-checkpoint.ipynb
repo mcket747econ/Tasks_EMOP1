{
 "cells": [
  {
   "cell_type": "code",
   "execution_count": 1,
   "id": "f14262c0",
   "metadata": {},
   "outputs": [],
   "source": [
    "import geemap"
   ]
  },
  {
   "cell_type": "code",
   "execution_count": 29,
   "id": "0d22d191",
   "metadata": {},
   "outputs": [],
   "source": [
    "js_snippet = \"\"\"\n",
    "\n",
    "function bitwiseExtract(value, fromBit, toBit) {\n",
    "  if (toBit === undefined)\n",
    "    toBit = fromBit\n",
    "  var maskSize = ee.Number(1).add(toBit).subtract(fromBit)\n",
    "  var mask = ee.Number(1).leftShift(maskSize).subtract(1)\n",
    "  return value.rightShift(fromBit).bitwiseAnd(mask)\n",
    "}\n",
    "\n",
    "\n",
    "function sequence(start, end) {\n",
    "    return Array\n",
    "      .apply(null, Array(end - start + 1))\n",
    "      .map(function (_, i) {\n",
    "        return i + start\n",
    "      })\n",
    "  }\n",
    "  \n",
    "  \n",
    "  var districts = ee.FeatureCollection(\"users/geerootfold/gadm36_MLI_4\")\n",
    "  .filter(ee.Filter.eq('NAME_0', 'Mali'))\n",
    "  .select(['NAME_4'], ['region']) // Rename the property you're interested to something cleaner\n",
    "\n",
    "Map.centerObject(districts)\n",
    "\n",
    "\n",
    "\"\"\""
   ]
  },
  {
   "cell_type": "code",
   "execution_count": 30,
   "id": "1410601a",
   "metadata": {},
   "outputs": [],
   "source": [
    "geemap.js_snippet_to_py(\n",
    "    js_snippet, add_new_cell=True, import_ee=True, import_geemap=True, show_map=True\n",
    ")"
   ]
  },
  {
   "cell_type": "code",
   "execution_count": 32,
   "id": "77708359",
   "metadata": {},
   "outputs": [
    {
     "ename": "SyntaxError",
     "evalue": "expected ':' (3328869716.py, line 10)",
     "output_type": "error",
     "traceback": [
      "\u001b[1;36m  Cell \u001b[1;32mIn[32], line 10\u001b[1;36m\u001b[0m\n\u001b[1;33m    if (toBit == undefined)\u001b[0m\n\u001b[1;37m                           ^\u001b[0m\n\u001b[1;31mSyntaxError\u001b[0m\u001b[1;31m:\u001b[0m expected ':'\n"
     ]
    }
   ],
   "source": [
    "import ee\n",
    "import geemap\n",
    "\n",
    "Map = geemap.Map()\n",
    "import geemap\n",
    "\n",
    "Map = geemap.Map()\n",
    "\n",
    "def bitwiseExtract(value, fromBit, toBit):\n",
    "    if (toBit == undefined):\n",
    "        toBit = fromBit\n",
    "        maskSize = ee.Number(1).add(toBit).subtract(fromBit)\n",
    "        mask = ee.Number(1).leftShift(maskSize).subtract(1)\n",
    "        return value.rightShift(fromBit).bitwiseAnd(mask)\n",
    "\n",
    "def sequence(start, end):\n",
    "    return Array \\\n",
    "    .apply(None, Array(end - start + 1))\n",
    "\n",
    "def func_hzd (_, i):\n",
    "    return i + start \\\n",
    "    .map(func_hzd)\n",
    "    districts = ee.FeatureCollection(\"users/geerootfold/gadm36_MLI_4\") \\\n",
    "    .filter(ee.Filter.eq('NAME_0', 'Mali')) \\\n",
    "    .select(['NAME_4'], ['region']) \n",
    "\n",
    "Map.centerObject(districts)\n",
    "\n",
    "Map\n"
   ]
  },
  {
   "cell_type": "code",
   "execution_count": 28,
   "id": "41901649",
   "metadata": {},
   "outputs": [
    {
     "ename": "NameError",
     "evalue": "name 'districts' is not defined",
     "output_type": "error",
     "traceback": [
      "\u001b[1;31m---------------------------------------------------------------------------\u001b[0m",
      "\u001b[1;31mNameError\u001b[0m                                 Traceback (most recent call last)",
      "Cell \u001b[1;32mIn[28], line 9\u001b[0m\n\u001b[0;32m      5\u001b[0m \u001b[38;5;28;01mimport\u001b[39;00m \u001b[38;5;21;01mgeemap\u001b[39;00m\n\u001b[0;32m      7\u001b[0m Map \u001b[38;5;241m=\u001b[39m geemap\u001b[38;5;241m.\u001b[39mMap()\n\u001b[1;32m----> 9\u001b[0m \u001b[43myears\u001b[49m\u001b[38;5;241;43m.\u001b[39;49m\u001b[43mmap\u001b[49m\u001b[43m(\u001b[49m\u001b[43mprocess\u001b[49m\u001b[43m)\u001b[49m\n\u001b[0;32m     11\u001b[0m Map\n",
      "File \u001b[1;32m~\\anaconda3\\envs\\emop2\\Lib\\site-packages\\ee\\apifunction.py:205\u001b[0m, in \u001b[0;36mApiFunction.importApi.<locals>.MakeBoundFunction.<locals>.<lambda>\u001b[1;34m(*args, **kwargs)\u001b[0m\n\u001b[0;32m    203\u001b[0m \u001b[38;5;28;01mdef\u001b[39;00m \u001b[38;5;21mMakeBoundFunction\u001b[39m(func):\n\u001b[0;32m    204\u001b[0m   \u001b[38;5;66;03m# We need the lambda to capture \"func\" from the enclosing scope.\u001b[39;00m\n\u001b[1;32m--> 205\u001b[0m   \u001b[38;5;28;01mreturn\u001b[39;00m \u001b[38;5;28;01mlambda\u001b[39;00m \u001b[38;5;241m*\u001b[39margs, \u001b[38;5;241m*\u001b[39m\u001b[38;5;241m*\u001b[39mkwargs: \u001b[43mfunc\u001b[49m\u001b[38;5;241;43m.\u001b[39;49m\u001b[43mcall\u001b[49m\u001b[43m(\u001b[49m\u001b[38;5;241;43m*\u001b[39;49m\u001b[43margs\u001b[49m\u001b[43m,\u001b[49m\u001b[43m \u001b[49m\u001b[38;5;241;43m*\u001b[39;49m\u001b[38;5;241;43m*\u001b[39;49m\u001b[43mkwargs\u001b[49m\u001b[43m)\u001b[49m\n",
      "File \u001b[1;32m~\\anaconda3\\envs\\emop2\\Lib\\site-packages\\ee\\function.py:67\u001b[0m, in \u001b[0;36mFunction.call\u001b[1;34m(self, *args, **kwargs)\u001b[0m\n\u001b[0;32m     55\u001b[0m \u001b[38;5;28;01mdef\u001b[39;00m \u001b[38;5;21mcall\u001b[39m(\u001b[38;5;28mself\u001b[39m, \u001b[38;5;241m*\u001b[39margs, \u001b[38;5;241m*\u001b[39m\u001b[38;5;241m*\u001b[39mkwargs):\n\u001b[0;32m     56\u001b[0m \u001b[38;5;250m  \u001b[39m\u001b[38;5;124;03m\"\"\"Calls the function with the given positional and keyword arguments.\u001b[39;00m\n\u001b[0;32m     57\u001b[0m \n\u001b[0;32m     58\u001b[0m \u001b[38;5;124;03m  Args:\u001b[39;00m\n\u001b[1;32m   (...)\u001b[0m\n\u001b[0;32m     65\u001b[0m \u001b[38;5;124;03m    to that type.\u001b[39;00m\n\u001b[0;32m     66\u001b[0m \u001b[38;5;124;03m  \"\"\"\u001b[39;00m\n\u001b[1;32m---> 67\u001b[0m   \u001b[38;5;28;01mreturn\u001b[39;00m \u001b[38;5;28;43mself\u001b[39;49m\u001b[38;5;241;43m.\u001b[39;49m\u001b[43mapply\u001b[49m\u001b[43m(\u001b[49m\u001b[38;5;28;43mself\u001b[39;49m\u001b[38;5;241;43m.\u001b[39;49m\u001b[43mnameArgs\u001b[49m\u001b[43m(\u001b[49m\u001b[43margs\u001b[49m\u001b[43m,\u001b[49m\u001b[43m \u001b[49m\u001b[43mkwargs\u001b[49m\u001b[43m)\u001b[49m\u001b[43m)\u001b[49m\n",
      "File \u001b[1;32m~\\anaconda3\\envs\\emop2\\Lib\\site-packages\\ee\\function.py:80\u001b[0m, in \u001b[0;36mFunction.apply\u001b[1;34m(self, named_args)\u001b[0m\n\u001b[0;32m     69\u001b[0m \u001b[38;5;28;01mdef\u001b[39;00m \u001b[38;5;21mapply\u001b[39m(\u001b[38;5;28mself\u001b[39m, named_args):\n\u001b[0;32m     70\u001b[0m \u001b[38;5;250m  \u001b[39m\u001b[38;5;124;03m\"\"\"Calls the function with a dictionary of named arguments.\u001b[39;00m\n\u001b[0;32m     71\u001b[0m \n\u001b[0;32m     72\u001b[0m \u001b[38;5;124;03m  Args:\u001b[39;00m\n\u001b[1;32m   (...)\u001b[0m\n\u001b[0;32m     78\u001b[0m \u001b[38;5;124;03m    to that type.\u001b[39;00m\n\u001b[0;32m     79\u001b[0m \u001b[38;5;124;03m  \"\"\"\u001b[39;00m\n\u001b[1;32m---> 80\u001b[0m   result \u001b[38;5;241m=\u001b[39m computedobject\u001b[38;5;241m.\u001b[39mComputedObject(\u001b[38;5;28mself\u001b[39m, \u001b[38;5;28;43mself\u001b[39;49m\u001b[38;5;241;43m.\u001b[39;49m\u001b[43mpromoteArgs\u001b[49m\u001b[43m(\u001b[49m\u001b[43mnamed_args\u001b[49m\u001b[43m)\u001b[49m)\n\u001b[0;32m     81\u001b[0m   \u001b[38;5;28;01mreturn\u001b[39;00m Function\u001b[38;5;241m.\u001b[39m_promoter(result, \u001b[38;5;28mself\u001b[39m\u001b[38;5;241m.\u001b[39mgetReturnType())\n",
      "File \u001b[1;32m~\\anaconda3\\envs\\emop2\\Lib\\site-packages\\ee\\function.py:108\u001b[0m, in \u001b[0;36mFunction.promoteArgs\u001b[1;34m(self, args)\u001b[0m\n\u001b[0;32m    106\u001b[0m name \u001b[38;5;241m=\u001b[39m arg_spec[\u001b[38;5;124m'\u001b[39m\u001b[38;5;124mname\u001b[39m\u001b[38;5;124m'\u001b[39m]\n\u001b[0;32m    107\u001b[0m \u001b[38;5;28;01mif\u001b[39;00m name \u001b[38;5;129;01min\u001b[39;00m args:\n\u001b[1;32m--> 108\u001b[0m   promoted_args[name] \u001b[38;5;241m=\u001b[39m \u001b[43mFunction\u001b[49m\u001b[38;5;241;43m.\u001b[39;49m\u001b[43m_promoter\u001b[49m\u001b[43m(\u001b[49m\u001b[43margs\u001b[49m\u001b[43m[\u001b[49m\u001b[43mname\u001b[49m\u001b[43m]\u001b[49m\u001b[43m,\u001b[49m\u001b[43m \u001b[49m\u001b[43marg_spec\u001b[49m\u001b[43m[\u001b[49m\u001b[38;5;124;43m'\u001b[39;49m\u001b[38;5;124;43mtype\u001b[39;49m\u001b[38;5;124;43m'\u001b[39;49m\u001b[43m]\u001b[49m\u001b[43m)\u001b[49m\n\u001b[0;32m    109\u001b[0m \u001b[38;5;28;01melif\u001b[39;00m \u001b[38;5;129;01mnot\u001b[39;00m arg_spec\u001b[38;5;241m.\u001b[39mget(\u001b[38;5;124m'\u001b[39m\u001b[38;5;124moptional\u001b[39m\u001b[38;5;124m'\u001b[39m):\n\u001b[0;32m    110\u001b[0m   \u001b[38;5;28;01mraise\u001b[39;00m ee_exception\u001b[38;5;241m.\u001b[39mEEException(\n\u001b[0;32m    111\u001b[0m       \u001b[38;5;124m'\u001b[39m\u001b[38;5;124mRequired argument (\u001b[39m\u001b[38;5;132;01m%s\u001b[39;00m\u001b[38;5;124m) missing to function: \u001b[39m\u001b[38;5;132;01m%s\u001b[39;00m\u001b[38;5;124m'\u001b[39m\n\u001b[0;32m    112\u001b[0m       \u001b[38;5;241m%\u001b[39m (name, signature\u001b[38;5;241m.\u001b[39mget(\u001b[38;5;124m'\u001b[39m\u001b[38;5;124mname\u001b[39m\u001b[38;5;124m'\u001b[39m)))\n",
      "File \u001b[1;32m~\\anaconda3\\envs\\emop2\\Lib\\site-packages\\ee\\__init__.py:257\u001b[0m, in \u001b[0;36m_Promote\u001b[1;34m(arg, klass)\u001b[0m\n\u001b[0;32m    254\u001b[0m \u001b[38;5;28;01melif\u001b[39;00m \u001b[38;5;28mcallable\u001b[39m(arg):\n\u001b[0;32m    255\u001b[0m   \u001b[38;5;66;03m# A native function that needs to be wrapped.\u001b[39;00m\n\u001b[0;32m    256\u001b[0m   args_count \u001b[38;5;241m=\u001b[39m \u001b[38;5;28mlen\u001b[39m(inspect\u001b[38;5;241m.\u001b[39mgetfullargspec(arg)\u001b[38;5;241m.\u001b[39margs)\n\u001b[1;32m--> 257\u001b[0m   \u001b[38;5;28;01mreturn\u001b[39;00m \u001b[43mCustomFunction\u001b[49m\u001b[38;5;241;43m.\u001b[39;49m\u001b[43mcreate\u001b[49m\u001b[43m(\u001b[49m\u001b[43marg\u001b[49m\u001b[43m,\u001b[49m\u001b[43m \u001b[49m\u001b[38;5;124;43m'\u001b[39;49m\u001b[38;5;124;43mObject\u001b[39;49m\u001b[38;5;124;43m'\u001b[39;49m\u001b[43m,\u001b[49m\u001b[43m \u001b[49m\u001b[43m[\u001b[49m\u001b[38;5;124;43m'\u001b[39;49m\u001b[38;5;124;43mObject\u001b[39;49m\u001b[38;5;124;43m'\u001b[39;49m\u001b[43m]\u001b[49m\u001b[43m \u001b[49m\u001b[38;5;241;43m*\u001b[39;49m\u001b[43m \u001b[49m\u001b[43margs_count\u001b[49m\u001b[43m)\u001b[49m\n\u001b[0;32m    258\u001b[0m \u001b[38;5;28;01melif\u001b[39;00m \u001b[38;5;28misinstance\u001b[39m(arg, Encodable):\n\u001b[0;32m    259\u001b[0m   \u001b[38;5;66;03m# An ee.Function or a computed function like the return value of\u001b[39;00m\n\u001b[0;32m    260\u001b[0m   \u001b[38;5;66;03m# Image.parseExpression().\u001b[39;00m\n\u001b[0;32m    261\u001b[0m   \u001b[38;5;28;01mreturn\u001b[39;00m arg\n",
      "File \u001b[1;32m~\\anaconda3\\envs\\emop2\\Lib\\site-packages\\ee\\customfunction.py:124\u001b[0m, in \u001b[0;36mCustomFunction.create\u001b[1;34m(func, return_type, arg_types)\u001b[0m\n\u001b[0;32m    118\u001b[0m args \u001b[38;5;241m=\u001b[39m [{\u001b[38;5;124m'\u001b[39m\u001b[38;5;124mname\u001b[39m\u001b[38;5;124m'\u001b[39m: \u001b[38;5;28;01mNone\u001b[39;00m, \u001b[38;5;124m'\u001b[39m\u001b[38;5;124mtype\u001b[39m\u001b[38;5;124m'\u001b[39m: StringifyType(i)} \u001b[38;5;28;01mfor\u001b[39;00m i \u001b[38;5;129;01min\u001b[39;00m arg_types]\n\u001b[0;32m    119\u001b[0m signature \u001b[38;5;241m=\u001b[39m {\n\u001b[0;32m    120\u001b[0m     \u001b[38;5;124m'\u001b[39m\u001b[38;5;124mname\u001b[39m\u001b[38;5;124m'\u001b[39m: \u001b[38;5;124m'\u001b[39m\u001b[38;5;124m'\u001b[39m,\n\u001b[0;32m    121\u001b[0m     \u001b[38;5;124m'\u001b[39m\u001b[38;5;124mreturns\u001b[39m\u001b[38;5;124m'\u001b[39m: StringifyType(return_type),\n\u001b[0;32m    122\u001b[0m     \u001b[38;5;124m'\u001b[39m\u001b[38;5;124margs\u001b[39m\u001b[38;5;124m'\u001b[39m: args\n\u001b[0;32m    123\u001b[0m }\n\u001b[1;32m--> 124\u001b[0m \u001b[38;5;28;01mreturn\u001b[39;00m \u001b[43mCustomFunction\u001b[49m\u001b[43m(\u001b[49m\u001b[43msignature\u001b[49m\u001b[43m,\u001b[49m\u001b[43m \u001b[49m\u001b[43mfunc\u001b[49m\u001b[43m)\u001b[49m\n",
      "File \u001b[1;32m~\\anaconda3\\envs\\emop2\\Lib\\site-packages\\ee\\customfunction.py:42\u001b[0m, in \u001b[0;36mCustomFunction.__init__\u001b[1;34m(self, signature, body)\u001b[0m\n\u001b[0;32m     28\u001b[0m \u001b[38;5;250m\u001b[39m\u001b[38;5;124;03m\"\"\"Creates a function defined by a given expression with unbound variables.\u001b[39;00m\n\u001b[0;32m     29\u001b[0m \n\u001b[0;32m     30\u001b[0m \u001b[38;5;124;03mThe expression is created by evaluating the given function\u001b[39;00m\n\u001b[1;32m   (...)\u001b[0m\n\u001b[0;32m     37\u001b[0m \u001b[38;5;124;03m  body: The Python function to evaluate.\u001b[39;00m\n\u001b[0;32m     38\u001b[0m \u001b[38;5;124;03m\"\"\"\u001b[39;00m\n\u001b[0;32m     39\u001b[0m variables \u001b[38;5;241m=\u001b[39m [CustomFunction\u001b[38;5;241m.\u001b[39mvariable(arg[\u001b[38;5;124m'\u001b[39m\u001b[38;5;124mtype\u001b[39m\u001b[38;5;124m'\u001b[39m], arg[\u001b[38;5;124m'\u001b[39m\u001b[38;5;124mname\u001b[39m\u001b[38;5;124m'\u001b[39m])\n\u001b[0;32m     40\u001b[0m              \u001b[38;5;28;01mfor\u001b[39;00m arg \u001b[38;5;129;01min\u001b[39;00m signature[\u001b[38;5;124m'\u001b[39m\u001b[38;5;124margs\u001b[39m\u001b[38;5;124m'\u001b[39m]]\n\u001b[1;32m---> 42\u001b[0m \u001b[38;5;28;01mif\u001b[39;00m \u001b[43mbody\u001b[49m\u001b[43m(\u001b[49m\u001b[38;5;241;43m*\u001b[39;49m\u001b[43mvariables\u001b[49m\u001b[43m)\u001b[49m \u001b[38;5;129;01mis\u001b[39;00m \u001b[38;5;28;01mNone\u001b[39;00m:\n\u001b[0;32m     43\u001b[0m   \u001b[38;5;28;01mraise\u001b[39;00m ee_exception\u001b[38;5;241m.\u001b[39mEEException(\u001b[38;5;124m'\u001b[39m\u001b[38;5;124mUser-defined methods must return a value\u001b[39m\u001b[38;5;124m'\u001b[39m)\n\u001b[0;32m     45\u001b[0m \u001b[38;5;66;03m# The signature of the function.\u001b[39;00m\n",
      "Cell \u001b[1;32mIn[25], line 15\u001b[0m, in \u001b[0;36mprocess\u001b[1;34m(year)\u001b[0m\n\u001b[0;32m     11\u001b[0m end \u001b[38;5;241m=\u001b[39m ee\u001b[38;5;241m.\u001b[39mDate\u001b[38;5;241m.\u001b[39mfromYMD(year, \u001b[38;5;241m10\u001b[39m, \u001b[38;5;241m1\u001b[39m) \u001b[38;5;66;03m# end is exclusive\u001b[39;00m\n\u001b[0;32m     12\u001b[0m modis \u001b[38;5;241m=\u001b[39m ee\u001b[38;5;241m.\u001b[39mImageCollection(\u001b[38;5;124m'\u001b[39m\u001b[38;5;124mMODIS/006/MOD13Q1\u001b[39m\u001b[38;5;124m'\u001b[39m) \\\n\u001b[0;32m     13\u001b[0m \u001b[38;5;241m.\u001b[39mfilterDate(start,end) \\\n\u001b[0;32m     14\u001b[0m \u001b[38;5;241m.\u001b[39mselect(\u001b[38;5;124m'\u001b[39m\u001b[38;5;124mEVI\u001b[39m\u001b[38;5;124m'\u001b[39m)\n\u001b[1;32m---> 15\u001b[0m mosaic \u001b[38;5;241m=\u001b[39m modis\u001b[38;5;241m.\u001b[39mmax()\u001b[38;5;241m.\u001b[39mdivide(\u001b[38;5;241m10000\u001b[39m)\u001b[38;5;241m.\u001b[39mclip(\u001b[43mdistricts\u001b[49m)\n\u001b[0;32m     16\u001b[0m meanOfMaxEVI \u001b[38;5;241m=\u001b[39m mosaic \\\n\u001b[0;32m     17\u001b[0m \u001b[38;5;241m.\u001b[39mreduceRegions({\n\u001b[0;32m     18\u001b[0m \u001b[38;5;124m'\u001b[39m\u001b[38;5;124mcollection\u001b[39m\u001b[38;5;124m'\u001b[39m: districts,\n\u001b[1;32m   (...)\u001b[0m\n\u001b[0;32m     23\u001b[0m \u001b[38;5;124m'\u001b[39m\u001b[38;5;124mscale\u001b[39m\u001b[38;5;124m'\u001b[39m: \u001b[38;5;241m250\u001b[39m\n\u001b[0;32m     24\u001b[0m })\n",
      "\u001b[1;31mNameError\u001b[0m: name 'districts' is not defined"
     ]
    }
   ],
   "source": [
    "import ee\n",
    "import geemap\n",
    "\n",
    "Map = geemap.Map()\n",
    "import geemap\n",
    "\n",
    "Map = geemap.Map()\n",
    "\n",
    "years.map(process)\n",
    "\n",
    "Map\n"
   ]
  },
  {
   "cell_type": "code",
   "execution_count": 25,
   "id": "e33c5ac8",
   "metadata": {},
   "outputs": [],
   "source": [
    "import ee\n",
    "import geemap\n",
    "\n",
    "Map = geemap.Map()\n",
    "import geemap\n",
    "\n",
    "Map = geemap.Map()\n",
    "\n",
    "def process(year):\n",
    "    start = ee.Date.fromYMD(year, 5, 1)\n",
    "    end = ee.Date.fromYMD(year, 10, 1) # end is exclusive\n",
    "    modis = ee.ImageCollection('MODIS/006/MOD13Q1') \\\n",
    "    .filterDate(start,end) \\\n",
    "    .select('EVI')\n",
    "    mosaic = modis.max().divide(10000).clip(districts)\n",
    "    meanOfMaxEVI = mosaic \\\n",
    "    .reduceRegions({\n",
    "    'collection': districts,\n",
    "    'reducer': ee.Reducer.mean().combine({\n",
    "    'reducer2': ee.Reducer.stdDev(),\n",
    "    'sharedInputs': True\n",
    "    }),\n",
    "    'scale': 250\n",
    "    })\n",
    "\n",
    "def func_nwq (feature):\n",
    "    return feature \\\n",
    "    .set('year', year) \\\n",
    "    .map(func_nwq)\n",
    "    print(meanOfMaxEVI)\n",
    "    Export.table.toDrive({\n",
    "    'collection': meanOfMaxEVI,\n",
    "    'description': 'meanOfEVI' + year,\n",
    "    'folder': 'Final_Regressions_EVI_Correct',\n",
    "    # Explicitly specify your columns to exclude .geo\n",
    "    'fileFormat': 'CSV',\n",
    "    'selectors': ['region', 'year', 'mean', 'stdDev']\n",
    "    })\n",
    "    visParams = {\n",
    "    'min': 0,\n",
    "    'max': 1,\n",
    "    'palette': [\n",
    "    'FFFFFF', 'CE7E45', 'DF923D', 'F1B555', 'FCD163', '99B718', '74A901',\n",
    "    '66A000', '529400', '3E8601', '207401', '056201', '004C00', '023B01',\n",
    "    '012E01', '011D01', '011301'\n",
    "    ],\n",
    "    }\n",
    "    Map.addLayer(mosaic, visParams, 'max GCI ' + year)\n",
    "\n",
    "    Map\n"
   ]
  },
  {
   "cell_type": "code",
   "execution_count": 10,
   "id": "c3cbbd7b",
   "metadata": {},
   "outputs": [
    {
     "data": {
      "application/vnd.jupyter.widget-view+json": {
       "model_id": "3534f76f6e2a4d109fc9ea16fdb0462e",
       "version_major": 2,
       "version_minor": 0
      },
      "text/plain": [
       "Map(center=[20, 0], controls=(WidgetControl(options=['position', 'transparent_bg'], widget=HBox(children=(Togg…"
      ]
     },
     "metadata": {},
     "output_type": "display_data"
    }
   ],
   "source": [
    "import ee\n",
    "import geemap\n",
    "\n",
    "Map = geemap.Map()\n",
    "import geemap\n",
    "\n",
    "Map = geemap.Map()\n",
    "\n",
    "years = ee.List.sequence(2010, 2021)\n",
    "\n",
    "Map\n"
   ]
  },
  {
   "cell_type": "code",
   "execution_count": null,
   "id": "cca380f5",
   "metadata": {},
   "outputs": [],
   "source": [
    "import ee\n",
    "import geemap\n",
    "\n",
    "Map = geemap.Map()\n",
    "import geemap\n",
    "\n",
    "Map = geemap.Map()\n",
    "\n",
    "years = ee.List.sequence(2010, 2021)\n",
    "\n",
    "MapMap\n"
   ]
  },
  {
   "cell_type": "code",
   "execution_count": 5,
   "id": "d21c89bd",
   "metadata": {},
   "outputs": [
    {
     "ename": "NameError",
     "evalue": "name 'sequence' is not defined",
     "output_type": "error",
     "traceback": [
      "\u001b[1;31m---------------------------------------------------------------------------\u001b[0m",
      "\u001b[1;31mNameError\u001b[0m                                 Traceback (most recent call last)",
      "Cell \u001b[1;32mIn[5], line 9\u001b[0m\n\u001b[0;32m      5\u001b[0m \u001b[38;5;28;01mimport\u001b[39;00m \u001b[38;5;21;01mgeemap\u001b[39;00m\n\u001b[0;32m      7\u001b[0m Map \u001b[38;5;241m=\u001b[39m geemap\u001b[38;5;241m.\u001b[39mMap()\n\u001b[1;32m----> 9\u001b[0m years \u001b[38;5;241m=\u001b[39m \u001b[43msequence\u001b[49m(\u001b[38;5;241m2010\u001b[39m, \u001b[38;5;241m2021\u001b[39m)\n\u001b[0;32m     11\u001b[0m Map\n",
      "\u001b[1;31mNameError\u001b[0m: name 'sequence' is not defined"
     ]
    }
   ],
   "source": [
    "import ee\n",
    "import geemap\n",
    "\n",
    "Map = geemap.Map()\n",
    "import geemap\n",
    "\n",
    "Map = geemap.Map()\n",
    "\n",
    "years = sequence(2010, 2021)\n",
    "\n",
    "Map\n"
   ]
  },
  {
   "cell_type": "code",
   "execution_count": 8,
   "id": "2c8d7ec0",
   "metadata": {},
   "outputs": [
    {
     "name": "stdout",
     "output_type": "stream",
     "text": [
      "Enter verification code: 4/1AZEOvhUYhJ78ws4p2T2lmVlQfFEyg-Y3l9oTELrLelUXfyhpFo-djaEgZ68\n"
     ]
    }
   ],
   "source": [
    "ee.Authenticate()"
   ]
  },
  {
   "cell_type": "code",
   "execution_count": 9,
   "id": "db2d2e87",
   "metadata": {},
   "outputs": [],
   "source": [
    "Map = geemap.Map()\n",
    "Map"
   ]
  }
 ],
 "metadata": {
  "kernelspec": {
   "display_name": "Python 3 (ipykernel)",
   "language": "python",
   "name": "python3"
  },
  "language_info": {
   "codemirror_mode": {
    "name": "ipython",
    "version": 3
   },
   "file_extension": ".py",
   "mimetype": "text/x-python",
   "name": "python",
   "nbconvert_exporter": "python",
   "pygments_lexer": "ipython3",
   "version": "3.11.4"
  }
 },
 "nbformat": 4,
 "nbformat_minor": 5
}
